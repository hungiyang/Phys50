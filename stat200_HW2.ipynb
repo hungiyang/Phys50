{
 "cells": [
  {
   "cell_type": "code",
   "execution_count": 32,
   "metadata": {
    "collapsed": true
   },
   "outputs": [],
   "source": [
    "import numpy as np\n",
    "import random\n",
    "import matplotlib.pyplot as plt\n",
    "%matplotlib inline"
   ]
  },
  {
   "cell_type": "code",
   "execution_count": 8,
   "metadata": {
    "collapsed": true
   },
   "outputs": [],
   "source": [
    "def icdf(x):\n",
    "    return np.sqrt(x)\n",
    "def draw_S():\n",
    "    return sum(np.array([icdf(random.random()) for i in range(50)]))"
   ]
  },
  {
   "cell_type": "code",
   "execution_count": 34,
   "metadata": {},
   "outputs": [
    {
     "data": {
      "text/plain": [
       "0.001095"
      ]
     },
     "execution_count": 34,
     "metadata": {},
     "output_type": "execute_result"
    }
   ],
   "source": [
    "sample = np.array([draw_S() for i in range(200000)])\n",
    "float(np.sum(sample<10))/len(sample)"
   ]
  },
  {
   "cell_type": "code",
   "execution_count": 41,
   "metadata": {},
   "outputs": [
    {
     "data": {
      "text/plain": [
       "(array([  1.00000000e+00,   0.00000000e+00,   0.00000000e+00,\n",
       "          0.00000000e+00,   1.00000000e+00,   1.00000000e+00,\n",
       "          6.00000000e+00,   8.00000000e+00,   1.10000000e+01,\n",
       "          2.80000000e+01,   5.40000000e+01,   8.50000000e+01,\n",
       "          1.87000000e+02,   2.64000000e+02,   4.53000000e+02,\n",
       "          7.08000000e+02,   1.10500000e+03,   1.59400000e+03,\n",
       "          2.42300000e+03,   3.29700000e+03,   4.30300000e+03,\n",
       "          5.56100000e+03,   7.11300000e+03,   8.76400000e+03,\n",
       "          1.04530000e+04,   1.18800000e+04,   1.32520000e+04,\n",
       "          1.41800000e+04,   1.49180000e+04,   1.52130000e+04,\n",
       "          1.47410000e+04,   1.33750000e+04,   1.23050000e+04,\n",
       "          1.08160000e+04,   8.88500000e+03,   7.09300000e+03,\n",
       "          5.54700000e+03,   4.01700000e+03,   2.78300000e+03,\n",
       "          1.91300000e+03,   1.16200000e+03,   7.27000000e+02,\n",
       "          3.59000000e+02,   2.13000000e+02,   1.13000000e+02,\n",
       "          5.70000000e+01,   1.60000000e+01,   1.20000000e+01,\n",
       "          2.00000000e+00,   1.00000000e+00]),\n",
       " array([  7.56116594,   7.761319  ,   7.96147207,   8.16162514,\n",
       "          8.36177821,   8.56193127,   8.76208434,   8.96223741,\n",
       "          9.16239047,   9.36254354,   9.56269661,   9.76284967,\n",
       "          9.96300274,  10.16315581,  10.36330887,  10.56346194,\n",
       "         10.76361501,  10.96376807,  11.16392114,  11.36407421,\n",
       "         11.56422727,  11.76438034,  11.96453341,  12.16468647,\n",
       "         12.36483954,  12.56499261,  12.76514567,  12.96529874,\n",
       "         13.16545181,  13.36560487,  13.56575794,  13.76591101,\n",
       "         13.96606407,  14.16621714,  14.36637021,  14.56652328,\n",
       "         14.76667634,  14.96682941,  15.16698248,  15.36713554,\n",
       "         15.56728861,  15.76744168,  15.96759474,  16.16774781,\n",
       "         16.36790088,  16.56805394,  16.76820701,  16.96836008,\n",
       "         17.16851314,  17.36866621,  17.56881928]),\n",
       " <a list of 50 Patch objects>)"
      ]
     },
     "execution_count": 41,
     "metadata": {},
     "output_type": "execute_result"
    },
    {
     "data": {
      "image/png": "[encoded data removed]",
      "text/plain": [
       "<matplotlib.figure.Figure at 0x10d0a8c50>"
      ]
     },
     "metadata": {},
     "output_type": "display_data"
    }
   ],
   "source": [
    "test = np.array([random.random() for i in range(100)])\n",
    "plt.hist(sample,bins=50)"
   ]
  },
  {
   "cell_type": "code",
   "execution_count": 37,
   "metadata": {},
   "outputs": [
    {
     "data": {
      "text/plain": [
       "1.1120123732119458"
      ]
     },
     "execution_count": 37,
     "metadata": {},
     "output_type": "execute_result"
    }
   ],
   "source": [
    "np.var(sample)"
   ]
  },
  {
   "cell_type": "code",
   "execution_count": 40,
   "metadata": {},
   "outputs": [
    {
     "data": {
      "text/plain": [
       "1.0540925533894598"
      ]
     },
     "execution_count": 40,
     "metadata": {},
     "output_type": "execute_result"
    }
   ],
   "source": [
    "np.sqrt(10./9)"
   ]
  },
  {
   "cell_type": "code",
   "execution_count": 39,
   "metadata": {},
   "outputs": [
    {
     "data": {
      "text/plain": [
       "-3.333333333333334"
      ]
     },
     "execution_count": 39,
     "metadata": {},
     "output_type": "execute_result"
    }
   ],
   "source": [
    "10-40./3"
   ]
  },
  {
   "cell_type": "code",
   "execution_count": 63,
   "metadata": {},
   "outputs": [
    {
     "name": "stdout",
     "output_type": "stream",
     "text": [
      "0.596300519252\n",
      "0.094299734634\n"
     ]
    }
   ],
   "source": [
    "pn=0.6\n",
    "z=1.96\n",
    "n=100.\n",
    "print (2*n*pn+z**2)/(2*(n+z**2))\n",
    "print (np.sqrt((2*n*pn+z**2)**2-4*(n+z**2)*n*pn**2))/(2*(n+z**2))"
   ]
  },
  {
   "cell_type": "code",
   "execution_count": 64,
   "metadata": {},
   "outputs": [
    {
     "name": "stdout",
     "output_type": "stream",
     "text": [
      "0.6\n",
      "0.0960199979171\n"
     ]
    }
   ],
   "source": [
    "print pn\n",
    "print z/np.sqrt(n)*np.sqrt(pn*(1-pn))"
   ]
  },
  {
   "cell_type": "code",
   "execution_count": 54,
   "metadata": {},
   "outputs": [
    {
     "data": {
      "text/plain": [
       "19.584470647939433"
      ]
     },
     "execution_count": 54,
     "metadata": {},
     "output_type": "execute_result"
    }
   ],
   "source": [
    "np.sqrt((2*n*pn+z**2)**2-4*(n+z**2)*n*pn**2)"
   ]
  },
  {
   "cell_type": "code",
   "execution_count": 51,
   "metadata": {},
   "outputs": [
    {
     "data": {
      "text/plain": [
       "-9585.24210944"
      ]
     },
     "execution_count": 51,
     "metadata": {},
     "output_type": "execute_result"
    }
   ],
   "source": [
    "(2*n*pn+z**2)**2-4*(n+z**2)*n*pn"
   ]
  },
  {
   "cell_type": "code",
   "execution_count": 52,
   "metadata": {},
   "outputs": [
    {
     "data": {
      "text/plain": [
       "15336.74189056"
      ]
     },
     "execution_count": 52,
     "metadata": {},
     "output_type": "execute_result"
    }
   ],
   "source": [
    "(2*n*pn+z**2)**2"
   ]
  },
  {
   "cell_type": "code",
   "execution_count": 53,
   "metadata": {},
   "outputs": [
    {
     "data": {
      "text/plain": [
       "24921.984"
      ]
     },
     "execution_count": 53,
     "metadata": {},
     "output_type": "execute_result"
    }
   ],
   "source": [
    "4*(n+z**2)*n*pn"
   ]
  },
  {
   "cell_type": "code",
   "execution_count": null,
   "metadata": {
    "collapsed": true
   },
   "outputs": [],
   "source": []
  }
 ],
 "metadata": {
  "kernelspec": {
   "display_name": "Python 2",
   "language": "python",
   "name": "python2"
  },
  "language_info": {
   "codemirror_mode": {
    "name": "ipython",
    "version": 2
   },
   "file_extension": ".py",
   "mimetype": "text/x-python",
   "name": "python",
   "nbconvert_exporter": "python",
   "pygments_lexer": "ipython2",
   "version": "2.7.13"
  }
 },
 "nbformat": 4,
 "nbformat_minor": 2
}
